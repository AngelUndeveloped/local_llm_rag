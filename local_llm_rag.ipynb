{
 "cells": [
  {
   "cell_type": "markdown",
   "metadata": {},
   "source": [
    "# Local LLM with RAG"
   ]
  },
  {
   "cell_type": "markdown",
   "metadata": {},
   "source": [
    "## Environment setup\n",
    "Install python 3.12+\n",
    "install dependencies"
   ]
  },
  {
   "cell_type": "code",
   "execution_count": 1,
   "metadata": {},
   "outputs": [],
   "source": [
    "#%pip install torch transformers sentence-transformers langchain"
   ]
  },
  {
   "cell_type": "code",
   "execution_count": null,
   "metadata": {},
   "outputs": [],
   "source": [
    "# Install the Llama CLI\n",
    "%pip install llama-stack"
   ]
  },
  {
   "cell_type": "code",
   "execution_count": 4,
   "metadata": {},
   "outputs": [],
   "source": [
    "# run the model list to show the latest available models and determine the model ID desired (terminal)\n",
    "# llama model list\n",
    "# recomend llama 3.2-1B-Instruct\n",
    "# | Model Descriptor                        | Hugging Face Repo                                   | Context Length |\n",
    "# | Llama3.2-1B-Instruct                    | meta-llama/Llama-3.2-1B-Instruct                    | 128K           |\n",
    " "
   ]
  },
  {
   "cell_type": "code",
   "execution_count": null,
   "metadata": {},
   "outputs": [],
   "source": [
    "# # Load the model from hugging face\n",
    "# import torch\n",
    "# from transformers import pipeline\n",
    "\n",
    "# model_id = \"meta-llama/Llama-3.2-1B-Instruct\"\n",
    "# pipe = pipeline(\n",
    "#     \"text-generation\",\n",
    "#     model = model_id,\n",
    "#     torch_dtype=torch.bfloat16,\n",
    "#     device_map=\"auto\",\n",
    "# )\n",
    "# messages = [\n",
    "#     {\"role\": \"system\", \"content\": \"You a helpful assistant who uses the context of the conversation to resolve the users questions to the best of your abilites.\"}\n",
    "#     {\"role\": \"user\", \"contestn\": \"Who are you?\"}\n",
    "# ]\n",
    "\n",
    "# outputs = pipe(\n",
    "#     messages,\n",
    "#     max_new_tokens=256,\n",
    "# )\n",
    "# print(outputs[0][\"generated_text\"][-1])\n",
    "\n",
    "# local model\n",
    "from transformers import AutoModelForCausalLM, AutoTokenizer\n",
    "model_path = \"models\\llama3_2\"\n",
    "tokenizer = AutoTokenizer.from_pretrained(model_path)\n",
    "model = AutoModelForCausalLM.from_pretrained(model_path)\n"
   ]
  },
  {
   "cell_type": "code",
   "execution_count": null,
   "metadata": {},
   "outputs": [],
   "source": []
  }
 ],
 "metadata": {
  "kernelspec": {
   "display_name": ".venv",
   "language": "python",
   "name": "python3"
  },
  "language_info": {
   "codemirror_mode": {
    "name": "ipython",
    "version": 3
   },
   "file_extension": ".py",
   "mimetype": "text/x-python",
   "name": "python",
   "nbconvert_exporter": "python",
   "pygments_lexer": "ipython3",
   "version": "3.12.4"
  }
 },
 "nbformat": 4,
 "nbformat_minor": 2
}
