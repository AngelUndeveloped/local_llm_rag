{
 "cells": [
  {
   "cell_type": "markdown",
   "metadata": {},
   "source": [
    "# Summary\n",
    "This notebook is intended to use a locally run llm model to help implement a local RAG agent with LLama3."
   ]
  },
  {
   "cell_type": "code",
   "execution_count": 1,
   "metadata": {},
   "outputs": [
    {
     "name": "stdout",
     "output_type": "stream",
     "text": [
      "Hello World\n"
     ]
    }
   ],
   "source": [
    "# Validate that the notebook is setup correctly and running\n",
    "print(\"Hello World\")"
   ]
  },
  {
   "cell_type": "markdown",
   "metadata": {
    "vscode": {
     "languageId": "plaintext"
    }
   },
   "source": [
    "If the notebook isn't working, please create a virtual environment.\n",
    "You can use the following command: python -m venv local_llm_rag_env\n",
    "\n",
    "How do I activate the enviorment?\n",
    "run the following command: local_llm_rag_env\\Scripts\\activate\n",
    "\n",
    "To install jupyter lab run the following command: pip install jupyterlab (have the environment running)\n",
    "\n",
    "To launch jupyterlab run the following: jupyter lab\n",
    "* Use it if you don't want to use your IDE.\n",
    "\n",
    "Install the Ipython kernel to make it available as a jupyter kernel: pip install ipykernel\n",
    "\n",
    "Register the Kernel: python -m ipykernel install --user --name=local_llm_rag_env --display-name \"Python (local_llm_rag_env)\"\n",
    "\n",
    "Restart the IDE if you are using an IDE"
   ]
  },
  {
   "cell_type": "code",
   "execution_count": null,
   "metadata": {},
   "outputs": [],
   "source": []
  }
 ],
 "metadata": {
  "kernelspec": {
   "display_name": "Python (local_llm_rag_env)",
   "language": "python",
   "name": "local_llm_rag_env"
  },
  "language_info": {
   "codemirror_mode": {
    "name": "ipython",
    "version": 3
   },
   "file_extension": ".py",
   "mimetype": "text/x-python",
   "name": "python",
   "nbconvert_exporter": "python",
   "pygments_lexer": "ipython3",
   "version": "3.12.0"
  }
 },
 "nbformat": 4,
 "nbformat_minor": 4
}
